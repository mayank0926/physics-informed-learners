{
 "cells": [
  {
   "cell_type": "markdown",
   "source": [
    "# Imports"
   ],
   "metadata": {}
  },
  {
   "cell_type": "code",
   "execution_count": 1,
   "source": [
    "import gym\n",
    "import mujoco_py\n",
    "import numpy as np\n",
    "import scipy.io as sc\n",
    "import time\n",
    "import glfw\n"
   ],
   "outputs": [],
   "metadata": {}
  },
  {
   "cell_type": "markdown",
   "source": [
    "# Resets\n",
    "env.reset() also calls _get_obs() for the first time"
   ],
   "metadata": {}
  },
  {
   "cell_type": "code",
   "execution_count": 2,
   "source": [
    "\n",
    "env = gym.make('FetchSlide-v1')\n",
    "iter = 0\n",
    "\n",
    "defStep = np.array([-1,-1,1,0],dtype=np.float32)\n",
    "obs = env.reset()\n",
    "\n",
    "obj_pos = obs[\"observation\"][3:6]\n",
    "obj_vel = obs[\"observation\"][14:17]\n",
    "data = np.array([np.hstack([[0],obj_pos,obj_vel,[obj_vel[1]/obj_vel[0]]])])\n"
   ],
   "outputs": [],
   "metadata": {}
  },
  {
   "cell_type": "markdown",
   "source": [
    "# Main Iteration Loop"
   ],
   "metadata": {}
  },
  {
   "cell_type": "code",
   "execution_count": 3,
   "source": [
    "while (iter<200):\n",
    "    env.render(mode=\"human\")\n",
    "    obs, reward, done, info = env.step(defStep)\n",
    "    # print(obs[\"observation\"][:3] - pre_obs[\"observation\"][:3], \"-----\", obs[\"observation\"][-6:-3])\n",
    "    # if iter>50 and iter<80: defStep[:3] = 50*obs[\"observation\"][6:9]\n",
    "\n",
    "    obj_pos = obs[\"observation\"][3:6]\n",
    "    obj_vel = obs[\"observation\"][14:17]\n",
    "\n",
    "    iter += 1\n",
    "\n",
    "    newrow = np.array([np.hstack([[iter],obj_pos,obj_vel,[obj_vel[1]/obj_vel[0]]])])\n",
    "    data = np.vstack([data, newrow])\n"
   ],
   "outputs": [
    {
     "output_type": "stream",
     "name": "stdout",
     "text": [
      "Creating window glfw\n"
     ]
    }
   ],
   "metadata": {}
  },
  {
   "cell_type": "markdown",
   "source": [
    "# Graceful Close\n",
    "env.close() does not work as expected here so need to call terminate from glfw"
   ],
   "metadata": {}
  },
  {
   "cell_type": "code",
   "execution_count": 4,
   "source": [
    "\n",
    "env.close()\n",
    "glfw.terminate()\n"
   ],
   "outputs": [],
   "metadata": {}
  },
  {
   "cell_type": "markdown",
   "source": [
    "# Data Save"
   ],
   "metadata": {}
  },
  {
   "cell_type": "code",
   "execution_count": 5,
   "source": [
    "\n",
    "filename = \"data-\" + time.strftime(\"%Y%m%d-%H%M%S\")\n",
    "toSave = input('Save file?[Y/n] ')\n",
    "if len(toSave)>0 and toSave[0].lower() == 'y':\n",
    "    np.savetxt(filename + \".csv\", data, delimiter=\",\")\n",
    "    sc.savemat(filename + \".mat\", {'data':data})"
   ],
   "outputs": [],
   "metadata": {}
  },
  {
   "cell_type": "markdown",
   "source": [],
   "metadata": {}
  }
 ],
 "metadata": {
  "orig_nbformat": 4,
  "language_info": {
   "name": "python",
   "version": "3.7.11",
   "mimetype": "text/x-python",
   "codemirror_mode": {
    "name": "ipython",
    "version": 3
   },
   "pygments_lexer": "ipython3",
   "nbconvert_exporter": "python",
   "file_extension": ".py"
  },
  "kernelspec": {
   "name": "python3",
   "display_name": "Python 3.7.11 64-bit ('aiml': conda)"
  },
  "interpreter": {
   "hash": "7c2661dba37a8535dd07533dc5c9d79d1ecebb02f5ce0e6ce1cfb4d9436fc1fd"
  }
 },
 "nbformat": 4,
 "nbformat_minor": 2
}